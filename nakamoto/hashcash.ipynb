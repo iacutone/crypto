{
 "cells": [
  {
   "cell_type": "markdown",
   "metadata": {},
   "source": [
    "Here's an example of a valid Hashcash token at difficulty 20: 1:081031:satoshin@gmx.com:b4c26b1694691666"
   ]
  },
  {
   "cell_type": "code",
   "execution_count": 86,
   "metadata": {},
   "outputs": [
    {
     "data": {
      "text/plain": [
       "False"
      ]
     },
     "execution_count": 86,
     "metadata": {},
     "output_type": "execute_result"
    }
   ],
   "source": [
    "from hashlib import sha256\n",
    "\n",
    "##################################\n",
    "#            PART 1              #\n",
    "##################################\n",
    "\n",
    "def binary_leading_0s(hex_str: str):\n",
    "    binary_representation = bin(int(hex_str, 16))[2:].zfill(256)\n",
    "    return len(binary_representation) - len(binary_representation.lstrip('0'))\n",
    "\n",
    "def is_valid(token: str, date: str, email: str, difficulty: int) -> bool:\n",
    "    split_token = token.split(\":\")\n",
    "    if len(split_token[-1]) > 16:\n",
    "        return False\n",
    "    verify_token = \"1\" + \":\" + date + \":\" + email + \":\" + split_token[-1]\n",
    "    shaHash = sha256()\n",
    "    shaHash.update(verify_token.encode())\n",
    "    return difficulty == binary_leading_0s(shaHash.hexdigest())\n",
    "\n",
    "is_valid('1:081031:satoshin@gmx.com:b4c26b1694691666', '081031', 'satoshin@gmx.com', 20)\n",
    "is_valid('1:081031:satoshin@gmx.com:e3ddfbf99c8dbbe4', '081031', 'satoshin@gmx.com', 18)\n",
    "is_valid('1:081031:satoshin@gmx.com:8d728894bcef17ceb0', '081031', 'satoshin@gmx.com', 20)"
   ]
  },
  {
   "cell_type": "code",
   "execution_count": 84,
   "metadata": {},
   "outputs": [
    {
     "name": "stdout",
     "output_type": "stream",
     "text": [
      "000009378016fce80aec3a2ed34850556f368bf16cea549cf8cb2e19668ea22b\n"
     ]
    }
   ],
   "source": [
    "shaHash = hashlib.sha256()\n",
    "shaHash.update(\"1:081031:satoshin@gmx.com:8d728894bcef17ceb0\".encode())\n",
    "print(shaHash.hexdigest())"
   ]
  },
  {
   "cell_type": "code",
   "execution_count": 58,
   "metadata": {},
   "outputs": [
    {
     "name": "stdout",
     "output_type": "stream",
     "text": [
      "00000e16308c5485785d5af1f4623ac9cc455fd5d02eb51faccc3de31195db4d\n",
      "SyfE9fupPl51kCw0FiPOeEfHM\n"
     ]
    }
   ],
   "source": [
    "# https://www.youtube.com/watch?v=K_Ac1Ko8-p8\n",
    "\n",
    "import string\n",
    "import random\n",
    "import hashlib\n",
    "\n",
    "example_challenge = '1:081031:satoshin@gmx.com:b4c26b1694691666'\n",
    "\n",
    "def generation(challenge=example_challenge,size=25):\n",
    "    answer = ''.join(\n",
    "        random.choice(string.ascii_lowercase +\n",
    "                      string.ascii_uppercase +\n",
    "                      string.digits\n",
    "                     ) for x in range(size)\n",
    "    )\n",
    "    attempt = challenge + answer\n",
    "    return attempt, answer\n",
    "\n",
    "shaHash = hashlib.sha256()\n",
    "\n",
    "def testAttempt():\n",
    "    Found = False\n",
    "    \n",
    "    while Found == False:\n",
    "        attempt, answer = generation()\n",
    "        shaHash.update(attempt.encode())\n",
    "        solution = shaHash.hexdigest()\n",
    "        if solution.startswith('0000'):\n",
    "            print(solution)\n",
    "            Found = True\n",
    "    \n",
    "    print(answer)\n",
    "\n",
    "testAttempt()"
   ]
  },
  {
   "cell_type": "code",
   "execution_count": 96,
   "metadata": {},
   "outputs": [
    {
     "data": {
      "text/plain": [
       "16"
      ]
     },
     "execution_count": 96,
     "metadata": {},
     "output_type": "execute_result"
    }
   ],
   "source": [
    "len(secrets.token_hex(8))"
   ]
  },
  {
   "cell_type": "code",
   "execution_count": 104,
   "metadata": {},
   "outputs": [
    {
     "name": "stdout",
     "output_type": "stream",
     "text": [
      "00000b4be3bc262ef588e685d810d581de3271a122a9f8abc88b9f78b6098e4b\n"
     ]
    },
    {
     "data": {
      "text/plain": [
       "'1:081031:satoshin@gmx.com:931891'"
      ]
     },
     "execution_count": 104,
     "metadata": {},
     "output_type": "execute_result"
    }
   ],
   "source": [
    "import secrets\n",
    "\n",
    "##################################\n",
    "#            PART 2              #\n",
    "##################################\n",
    "\n",
    "def mint(date: str, email: str, difficulty: int) -> str:\n",
    "    tokenize = \"1\" + \":\" + date + \":\" + email\n",
    "    number = 1\n",
    "    \n",
    "    found = False\n",
    "    while found == False:\n",
    "        token = tokenize + \":\" + str(number)\n",
    "        shaHash = sha256()\n",
    "        shaHash.update(token.encode())\n",
    "        if shaHash.hexdigest().startswith('00000'):\n",
    "            found = True\n",
    "            print(shaHash.hexdigest())\n",
    "            return token \n",
    "        number += 1\n",
    "\n",
    "mint('081031', 'satoshin@gmx.com', 5)"
   ]
  },
  {
   "cell_type": "code",
   "execution_count": 105,
   "metadata": {},
   "outputs": [
    {
     "name": "stdout",
     "output_type": "stream",
     "text": [
      "00000b4be3bc262ef588e685d810d581de3271a122a9f8abc88b9f78b6098e4b\n"
     ]
    }
   ],
   "source": [
    "shaHash = hashlib.sha256()\n",
    "shaHash.update(\"1:081031:satoshin@gmx.com:931891\".encode())\n",
    "print(shaHash.hexdigest())"
   ]
  },
  {
   "cell_type": "code",
   "execution_count": null,
   "metadata": {},
   "outputs": [],
   "source": []
  }
 ],
 "metadata": {
  "kernelspec": {
   "display_name": "Python 3",
   "language": "python",
   "name": "python3"
  },
  "language_info": {
   "codemirror_mode": {
    "name": "ipython",
    "version": 3
   },
   "file_extension": ".py",
   "mimetype": "text/x-python",
   "name": "python",
   "nbconvert_exporter": "python",
   "pygments_lexer": "ipython3",
   "version": "3.6.8"
  }
 },
 "nbformat": 4,
 "nbformat_minor": 2
}
