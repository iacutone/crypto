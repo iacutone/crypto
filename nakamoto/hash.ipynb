{
 "cells": [
  {
   "cell_type": "markdown",
   "metadata": {},
   "source": [
    "Code refactored from [this](https://joshimbriani.com/blog/2016/12/20/hash-collisions-with-python/) blog post."
   ]
  },
  {
   "cell_type": "code",
   "execution_count": 86,
   "metadata": {},
   "outputs": [],
   "source": [
    "from hashlib import md5\n",
    "\n",
    "class HashCollision:\n",
    "    def __init__(self, message, prefix):\n",
    "        self.message = message\n",
    "        self.prefix = prefix\n",
    "\n",
    "    # use this hash function to generate a collision\n",
    "    def md125(self, message) -> str:\n",
    "        prefixed_message = (self.prefix + message).encode()\n",
    "        return md5(prefixed_message).hexdigest()[:8]\n",
    "\n",
    "    def generate_md125_collisions(self) -> (str, str):\n",
    "        # Our initial hashing\n",
    "        slow = self.md125(self.message)\n",
    "        fast = self.md125(slow)\n",
    "\n",
    "        # Loop until our hashes are equal\n",
    "        while slow != fast:\n",
    "            slow = self.md125(slow)\n",
    "            fast = self.md125(self.md125(fast))\n",
    "\n",
    "        # rewind our pointer to its initial value\n",
    "        slow = self.message\n",
    "\n",
    "        # Loop until they match again...\n",
    "        while slow != fast:\n",
    "            m0 = slow\n",
    "            # Each going one at a time\n",
    "            slow = self.md125(slow)\n",
    "            fast = self.md125(fast)\n",
    "   \n",
    "        # Now we'll loop x times until we get our second value\n",
    "        fast = self.md125(slow)\n",
    "\n",
    "        while slow != fast:\n",
    "            m1 = fast\n",
    "            fast = self.md125(fast)\n",
    "\n",
    "        self.print_results(m0, m1, self.md125(m0))\n",
    "\n",
    "        return (self.prefix + m0, self.prefix + m1)\n",
    "\n",
    "    def print_results(self, m0, m1, hash):\n",
    "        print(\"Message A:\", self.prefix + m0)\n",
    "        print(\"Message B:\", self.prefix + m1)\n",
    "        print(\"They both hash to:\", hash)"
   ]
  },
  {
   "cell_type": "code",
   "execution_count": 87,
   "metadata": {},
   "outputs": [
    {
     "name": "stdout",
     "output_type": "stream",
     "text": [
      "Message A: nakamotob823b923\n",
      "Message B: nakamotod41398c2\n",
      "They both hash to: 7a37bf76\n"
     ]
    },
    {
     "data": {
      "text/plain": [
       "('nakamotob823b923', 'nakamotod41398c2')"
      ]
     },
     "execution_count": 87,
     "metadata": {},
     "output_type": "execute_result"
    }
   ],
   "source": [
    "collider = HashCollision(\"12345\", \"nakamoto\")\n",
    "collider.generate_md125_collisions()"
   ]
  },
  {
   "cell_type": "code",
   "execution_count": 53,
   "metadata": {},
   "outputs": [
    {
     "name": "stdout",
     "output_type": "stream",
     "text": [
      "7a37bf76\n",
      "7a37bf76\n"
     ]
    }
   ],
   "source": [
    "print(hashlib.md5(\"nakamotob823b923\".encode()).hexdigest()[:8])\n",
    "print(hashlib.md5(\"nakamotod41398c2\".encode()).hexdigest()[:8])"
   ]
  },
  {
   "cell_type": "code",
   "execution_count": null,
   "metadata": {},
   "outputs": [],
   "source": []
  }
 ],
 "metadata": {
  "kernelspec": {
   "display_name": "Python 3",
   "language": "python",
   "name": "python3"
  },
  "language_info": {
   "codemirror_mode": {
    "name": "ipython",
    "version": 3
   },
   "file_extension": ".py",
   "mimetype": "text/x-python",
   "name": "python",
   "nbconvert_exporter": "python",
   "pygments_lexer": "ipython3",
   "version": "3.6.8"
  }
 },
 "nbformat": 4,
 "nbformat_minor": 2
}
